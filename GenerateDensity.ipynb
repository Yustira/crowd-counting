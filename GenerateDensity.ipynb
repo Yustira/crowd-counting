{
  "nbformat": 4,
  "nbformat_minor": 0,
  "metadata": {
    "kernelspec": {
      "display_name": "Python 3",
      "language": "python",
      "name": "python3"
    },
    "language_info": {
      "codemirror_mode": {
        "name": "ipython",
        "version": 3
      },
      "file_extension": ".py",
      "mimetype": "text/x-python",
      "name": "python",
      "nbconvert_exporter": "python",
      "pygments_lexer": "ipython3",
      "version": "3.7.6"
    },
    "colab": {
      "name": "Generate_density.ipynb",
      "provenance": [],
      "toc_visible": true,
      "include_colab_link": true
    }
  },
  "cells": [
    {
      "cell_type": "markdown",
      "metadata": {
        "id": "view-in-github",
        "colab_type": "text"
      },
      "source": [
        "<a href=\"https://colab.research.google.com/github/Yustira/crowd-counting/blob/master/Generate_density.ipynb\" target=\"_parent\"><img src=\"https://colab.research.google.com/assets/colab-badge.svg\" alt=\"Open In Colab\"/></a>"
      ]
    },
    {
      "cell_type": "markdown",
      "metadata": {
        "id": "_ZKEaQ27Exdd",
        "colab_type": "text"
      },
      "source": [
        "# Generate Density Map\n",
        "\n",
        "This notebook is used to generate density map from image file saved on `images.npy` file for the purpose of crowd counting.\n",
        "The density map is going to be saved as `images_density.npy` file"
      ]
    },
    {
      "cell_type": "markdown",
      "metadata": {
        "id": "3NEe917SFRoM",
        "colab_type": "text"
      },
      "source": [
        "## Load the imports"
      ]
    },
    {
      "cell_type": "code",
      "metadata": {
        "id": "KEv4wJ27Exdg",
        "colab_type": "code",
        "colab": {}
      },
      "source": [
        "import numpy as np\n",
        "import scipy\n",
        "from scipy import spatial\n",
        "from scipy import ndimage\n",
        "from tqdm import tqdm"
      ],
      "execution_count": 2,
      "outputs": []
    },
    {
      "cell_type": "markdown",
      "metadata": {
        "id": "TT55dg8aFUL7",
        "colab_type": "text"
      },
      "source": [
        "## Load the image file"
      ]
    },
    {
      "cell_type": "markdown",
      "metadata": {
        "id": "0bwG7BXwFgh-",
        "colab_type": "text"
      },
      "source": [
        "### Run this code only when you are using Colab\n",
        "this code will download dataset from this [link](https://drive.google.com/file/d/1y0BoU7RIisMgj4PsCPbY02PPm4CEXaEF/view?usp=sharing) to colab's temporary storage"
      ]
    },
    {
      "cell_type": "markdown",
      "metadata": {
        "id": "kKF7tae2Fj8L",
        "colab_type": "text"
      },
      "source": [
        "#### Install PyDrive"
      ]
    },
    {
      "cell_type": "code",
      "metadata": {
        "id": "0QUgvmWqFlED",
        "colab_type": "code",
        "colab": {
          "base_uri": "https://localhost:8080/",
          "height": 287
        },
        "outputId": "1a71a335-e138-49e0-c8e0-cfc3c85cbe56"
      },
      "source": [
        "!pip install PyDrive"
      ],
      "execution_count": 1,
      "outputs": [
        {
          "output_type": "stream",
          "text": [
            "Requirement already satisfied: PyDrive in /usr/local/lib/python3.6/dist-packages (1.3.1)\n",
            "Requirement already satisfied: PyYAML>=3.0 in /usr/local/lib/python3.6/dist-packages (from PyDrive) (3.13)\n",
            "Requirement already satisfied: oauth2client>=4.0.0 in /usr/local/lib/python3.6/dist-packages (from PyDrive) (4.1.3)\n",
            "Requirement already satisfied: google-api-python-client>=1.2 in /usr/local/lib/python3.6/dist-packages (from PyDrive) (1.7.12)\n",
            "Requirement already satisfied: httplib2>=0.9.1 in /usr/local/lib/python3.6/dist-packages (from oauth2client>=4.0.0->PyDrive) (0.17.4)\n",
            "Requirement already satisfied: six>=1.6.1 in /usr/local/lib/python3.6/dist-packages (from oauth2client>=4.0.0->PyDrive) (1.12.0)\n",
            "Requirement already satisfied: pyasn1>=0.1.7 in /usr/local/lib/python3.6/dist-packages (from oauth2client>=4.0.0->PyDrive) (0.4.8)\n",
            "Requirement already satisfied: pyasn1-modules>=0.0.5 in /usr/local/lib/python3.6/dist-packages (from oauth2client>=4.0.0->PyDrive) (0.2.8)\n",
            "Requirement already satisfied: rsa>=3.1.4 in /usr/local/lib/python3.6/dist-packages (from oauth2client>=4.0.0->PyDrive) (4.6)\n",
            "Requirement already satisfied: google-auth>=1.4.1 in /usr/local/lib/python3.6/dist-packages (from google-api-python-client>=1.2->PyDrive) (1.17.2)\n",
            "Requirement already satisfied: uritemplate<4dev,>=3.0.0 in /usr/local/lib/python3.6/dist-packages (from google-api-python-client>=1.2->PyDrive) (3.0.1)\n",
            "Requirement already satisfied: google-auth-httplib2>=0.0.3 in /usr/local/lib/python3.6/dist-packages (from google-api-python-client>=1.2->PyDrive) (0.0.3)\n",
            "Requirement already satisfied: setuptools>=40.3.0 in /usr/local/lib/python3.6/dist-packages (from google-auth>=1.4.1->google-api-python-client>=1.2->PyDrive) (47.3.1)\n",
            "Requirement already satisfied: cachetools<5.0,>=2.0.0 in /usr/local/lib/python3.6/dist-packages (from google-auth>=1.4.1->google-api-python-client>=1.2->PyDrive) (4.1.0)\n"
          ],
          "name": "stdout"
        }
      ]
    },
    {
      "cell_type": "markdown",
      "metadata": {
        "id": "_cx8mIL5FxK3",
        "colab_type": "text"
      },
      "source": [
        "#### Google Drive Authentication"
      ]
    },
    {
      "cell_type": "code",
      "metadata": {
        "id": "qe5qdN2RFyWM",
        "colab_type": "code",
        "colab": {}
      },
      "source": [
        "from pydrive.auth import GoogleAuth\n",
        "from pydrive.drive import GoogleDrive\n",
        "from google.colab import auth\n",
        "from oauth2client.client import GoogleCredentials\n",
        "\n",
        "auth.authenticate_user()\n",
        "gauth = GoogleAuth()\n",
        "gauth.credentials = GoogleCredentials.get_application_default()\n",
        "drive = GoogleDrive(gauth)"
      ],
      "execution_count": 3,
      "outputs": []
    },
    {
      "cell_type": "markdown",
      "metadata": {
        "id": "Qx3_WbjNF08P",
        "colab_type": "text"
      },
      "source": [
        "#### Download the file from the link"
      ]
    },
    {
      "cell_type": "code",
      "metadata": {
        "id": "yPtFFFNbF3JE",
        "colab_type": "code",
        "colab": {}
      },
      "source": [
        "IMAGE_FILE_ID = \"1y0BoU7RIisMgj4PsCPbY02PPm4CEXaEF\"\n",
        "downloaded = drive.CreateFile({'id':IMAGE_FILE_ID})\n",
        "downloaded.GetContentFile('images.npy')        "
      ],
      "execution_count": 4,
      "outputs": []
    },
    {
      "cell_type": "code",
      "metadata": {
        "id": "0T4-7J9ZF6lH",
        "colab_type": "code",
        "colab": {}
      },
      "source": [
        "IMAGE_GT_FILE_ID = \"1F8MSiZ974Hta6gZcex9DFvGwbhA2u3s8\"\n",
        "downloaded = drive.CreateFile({'id':IMAGE_GT_FILE_ID})\n",
        "downloaded.GetContentFile('images_gt.npy') "
      ],
      "execution_count": 5,
      "outputs": []
    },
    {
      "cell_type": "markdown",
      "metadata": {
        "id": "fagbUUHrF-dw",
        "colab_type": "text"
      },
      "source": [
        "### Load dataset from file"
      ]
    },
    {
      "cell_type": "code",
      "metadata": {
        "id": "Pwhc76TuExd3",
        "colab_type": "code",
        "colab": {}
      },
      "source": [
        "images=np.load('images.npy')\n",
        "images_gt=np.load('images_gt.npy',allow_pickle=True)"
      ],
      "execution_count": 6,
      "outputs": []
    },
    {
      "cell_type": "markdown",
      "metadata": {
        "id": "iwCDL7pGGEE1",
        "colab_type": "text"
      },
      "source": [
        "## Code to generate density map"
      ]
    },
    {
      "cell_type": "code",
      "metadata": {
        "id": "IfZoOGJZExeO",
        "colab_type": "code",
        "colab": {}
      },
      "source": [
        "def generate_density(X,Y):\n",
        "    point=np.array([X,Y]).T\n",
        "    leafsize=2048\n",
        "    tree=spatial.KDTree(point.copy(),leafsize=leafsize)\n",
        "    distances,locations=tree.query(point,k=4)\n",
        "    density=np.zeros([480,640],dtype=np.float32)\n",
        "    for i,pt in enumerate(point):\n",
        "        pt2d=np.zeros([480,640],dtype=np.float32)\n",
        "        pt=np.round(pt).astype('int')\n",
        "        pt2d[pt[1],pt[0]]=1000\n",
        "        sigma=min(max(1,int(np.sum(distances[i][1:3])*0.1)),8)\n",
        "        density+=ndimage.filters.gaussian_filter(pt2d, sigma, mode='constant')\n",
        "    return density"
      ],
      "execution_count": 7,
      "outputs": []
    },
    {
      "cell_type": "code",
      "metadata": {
        "scrolled": true,
        "id": "_Mb2CaW9Exei",
        "colab_type": "code",
        "colab": {
          "base_uri": "https://localhost:8080/",
          "height": 35
        },
        "outputId": "55525884-beaf-43df-bcce-b77e83c0e72c"
      },
      "source": [
        "images_density=np.zeros([2000,480,640],dtype=np.float32)\n",
        "for i in tqdm(range(2000)):\n",
        "    images_density[i]=generate_density(images_gt[i][:,0],images_gt[i][:,1])"
      ],
      "execution_count": 8,
      "outputs": [
        {
          "output_type": "stream",
          "text": [
            "100%|██████████| 2000/2000 [19:39<00:00,  1.70it/s]\n"
          ],
          "name": "stderr"
        }
      ]
    },
    {
      "cell_type": "markdown",
      "metadata": {
        "id": "4QvleBb_GLBv",
        "colab_type": "text"
      },
      "source": [
        "## Export the generated density map"
      ]
    },
    {
      "cell_type": "code",
      "metadata": {
        "id": "0b7jJwTFExew",
        "colab_type": "code",
        "colab": {}
      },
      "source": [
        "np.save('images_density.npy',images_density)"
      ],
      "execution_count": 11,
      "outputs": []
    },
    {
      "cell_type": "code",
      "metadata": {
        "id": "fmNjz1lzMhzs",
        "colab_type": "code",
        "colab": {}
      },
      "source": [
        ""
      ],
      "execution_count": null,
      "outputs": []
    }
  ]
}
