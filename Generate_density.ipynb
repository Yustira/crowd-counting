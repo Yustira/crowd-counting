{
 "cells": [
  {
   "cell_type": "markdown",
   "metadata": {},
   "source": [
    "# Generate Density Map"
   ]
  },
  {
   "cell_type": "code",
   "execution_count": 1,
   "metadata": {},
   "outputs": [],
   "source": [
    "import numpy as np\n",
    "import scipy\n",
    "from scipy import spatial\n",
    "from scipy import ndimage\n",
    "from tqdm import tqdm"
   ]
  },
  {
   "cell_type": "code",
   "execution_count": 2,
   "metadata": {},
   "outputs": [],
   "source": [
    "images=np.load('images.npy')\n",
    "images_gt=np.load('images_gt.npy',allow_pickle=True)"
   ]
  },
  {
   "cell_type": "code",
   "execution_count": 3,
   "metadata": {},
   "outputs": [],
   "source": [
    "def generate_density(X,Y):\n",
    "    point=np.array([X,Y]).T\n",
    "    leafsize=2048\n",
    "    tree=spatial.KDTree(point.copy(),leafsize=leafsize)\n",
    "    distances,locations=tree.query(point,k=4)\n",
    "    density=np.zeros([480,640],dtype=np.float32)\n",
    "    for i,pt in enumerate(point):\n",
    "        pt2d=np.zeros([480,640],dtype=np.float32)\n",
    "        pt=np.round(pt).astype('int')\n",
    "        pt2d[pt[1],pt[0]]=1000\n",
    "        sigma=min(max(1,int(np.sum(distances[i][1:3])*0.1)),8)\n",
    "        density+=ndimage.filters.gaussian_filter(pt2d, sigma, mode='constant')\n",
    "    return density"
   ]
  },
  {
   "cell_type": "code",
   "execution_count": null,
   "metadata": {
    "scrolled": true
   },
   "outputs": [
    {
     "name": "stderr",
     "output_type": "stream",
     "text": [
      " 93%|████████████████████████████████████████████████████████████████████████▏     | 1852/2000 [12:13<01:14,  1.98it/s]"
     ]
    }
   ],
   "source": [
    "images_density=np.zeros([2000,480,640],dtype=np.float32)\n",
    "for i in tqdm(range(2000)):\n",
    "    images_density[i]=generate_density(images_gt[i][:,0],images_gt[i][:,1])"
   ]
  },
  {
   "cell_type": "code",
   "execution_count": null,
   "metadata": {},
   "outputs": [],
   "source": [
    "np.save('images_density.npy',images_density)"
   ]
  }
 ],
 "metadata": {
  "kernelspec": {
   "display_name": "Python 3",
   "language": "python",
   "name": "python3"
  },
  "language_info": {
   "codemirror_mode": {
    "name": "ipython",
    "version": 3
   },
   "file_extension": ".py",
   "mimetype": "text/x-python",
   "name": "python",
   "nbconvert_exporter": "python",
   "pygments_lexer": "ipython3",
   "version": "3.7.6"
  }
 },
 "nbformat": 4,
 "nbformat_minor": 4
}
